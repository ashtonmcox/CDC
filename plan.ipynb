{
 "cells": [
  {
   "cell_type": "code",
   "execution_count": null,
   "metadata": {},
   "outputs": [],
   "source": [
    "data = []\n",
    "for city, city_year, weight in zip(list_city, list_year, list_points):\n",
    "    if city in city_lati and city in city_long:\n",
    "        lat = city_lati[city]\n",
    "        lon = city_long[city]\n",
    "        if lat is not None and lon is not None:\n",
    "            data.append({\n",
    "                'city': city,\n",
    "                'year': city_year,\n",
    "                'lat': lat,\n",
    "                'lon': lon,\n",
    "                'weight': int(weight)\n",
    "            })\n",
    "\n",
    "df = pd.DataFrame(data)\n",
    "\n",
    "# Ensure 'year' is of integer type\n",
    "df['year'] = df['year'].astype(int)\n",
    "\n",
    "# Sort the DataFrame by 'year' to ensure correct order\n",
    "df = df.sort_values('year')\n",
    "\n",
    "# Create an ordered categorical type for 'year'\n",
    "df['year'] = pd.Categorical(df['year'], categories=sorted(df['year'].unique()), ordered=True)\n",
    "\n",
    "# Calculate the center of the map\n",
    "map_center = {\n",
    "    'lat': df['lat'].mean(),\n",
    "    'lon': df['lon'].mean()\n",
    "}\n",
    "\n",
    "# Create the density map using Plotly Express with specified category orders\n",
    "fig = px.density_mapbox(\n",
    "    df,\n",
    "    lat='lat',\n",
    "    lon='lon',\n",
    "    z='weight',  # We're only interested in point density\n",
    "    radius=25,  # Adjust radius as needed\n",
    "    center=map_center,\n",
    "    zoom=3,\n",
    "    mapbox_style='open-street-map',\n",
    "    animation_frame='year',\n",
    "    title=\"NBA Player Birthplace Density Over Time Weighted by Players' Performance\",\n",
    "    category_orders={'year': df['year'].cat.categories}  # Ensure years are in the correct order\n",
    ")\n",
    "\n",
    "# Display the figure\n",
    "fig.show()"
   ]
  }
 ],
 "metadata": {
  "language_info": {
   "name": "python"
  }
 },
 "nbformat": 4,
 "nbformat_minor": 2
}
