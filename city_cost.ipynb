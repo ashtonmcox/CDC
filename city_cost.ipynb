{
 "cells": [
  {
   "cell_type": "code",
   "execution_count": 1,
   "metadata": {},
   "outputs": [],
   "source": [
    "import seaborn as sns\n",
    "import matplotlib.pyplot as plt\n",
    "import pandas as pd"
   ]
  },
  {
   "cell_type": "code",
   "execution_count": null,
   "metadata": {},
   "outputs": [],
   "source": [
    "df = pd.read_pickle(\"my_dataframe.pkl\")\n",
    "\n",
    "# Create scatter plot\n",
    "sns.scatterplot(data=df, x='fare', y='fare_low', palette='deep')\n",
    "sns.regplot(data=df, x='fare', y='fare_low', scatter_kws={'s': 20}, line_kws={'color': 'red'})\n",
    "\n",
    "\n",
    "# Add titles and labels\n",
    "plt.title('Fare vs. Fare Low')\n",
    "plt.xlabel('Fare')\n",
    "plt.ylabel('Fare Low')\n",
    "\n",
    "# Show plot\n",
    "plt.show()"
   ]
  }
 ],
 "metadata": {
  "kernelspec": {
   "display_name": "Python 3",
   "language": "python",
   "name": "python3"
  },
  "language_info": {
   "codemirror_mode": {
    "name": "ipython",
    "version": 3
   },
   "file_extension": ".py",
   "mimetype": "text/x-python",
   "name": "python",
   "nbconvert_exporter": "python",
   "pygments_lexer": "ipython3",
   "version": "3.12.5"
  }
 },
 "nbformat": 4,
 "nbformat_minor": 2
}
