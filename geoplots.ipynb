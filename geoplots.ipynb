{
 "cells": [
  {
   "cell_type": "code",
   "execution_count": 1,
   "metadata": {},
   "outputs": [],
   "source": [
    "import pandas as pd\n",
    "import plotly.express as px\n"
   ]
  },
  {
   "cell_type": "code",
   "execution_count": 10,
   "metadata": {},
   "outputs": [
    {
     "data": {
      "text/plain": [
       "Index(['Year', 'quarter', 'citymarketid_1', 'citymarketid_2', 'city1', 'city2',\n",
       "       'airportid_1', 'airportid_2', 'airport_1', 'airport_2', 'nsmiles',\n",
       "       'passengers', 'fare', 'carrier_lg', 'large_ms', 'fare_lg',\n",
       "       'carrier_low', 'lf_ms', 'fare_low', 'tbl1apk', 'city1_small',\n",
       "       'city2_small', 'city1_lati', 'city1_long', 'city2_lati', 'city2_long'],\n",
       "      dtype='object')"
      ]
     },
     "execution_count": 10,
     "metadata": {},
     "output_type": "execute_result"
    }
   ],
   "source": [
    "data = pd.read_pickle('df_pickle.pkl')\n",
    "data.columns"
   ]
  },
  {
   "cell_type": "code",
   "execution_count": 17,
   "metadata": {},
   "outputs": [],
   "source": [
    "cols = ['Year', 'city1_small', 'city1_lati', 'city1_long', 'passengers']\n",
    "data_subset = data[cols]\n",
    "\n",
    "# Calculate city popularity (how often each city appears in the dataset)\n",
    "city_popularity = data_subset['city1_small'].value_counts().to_dict()\n",
    "\n",
    "city_passengers = data_subset.groupby('city1_small')['passengers'].sum()\n",
    "\n",
    "# Multiply the number of passengers by the city popularity\n",
    "city_weight = city_passengers * pd.Series(city_popularity).reindex(city_passengers.index)"
   ]
  },
  {
   "cell_type": "code",
   "execution_count": 18,
   "metadata": {},
   "outputs": [],
   "source": [
    "\n",
    "final_data = []\n",
    "\n",
    "# Iterate over the cities and years, checking if the city has latitude and longitude data\n",
    "for index, row in data_subset.iterrows():\n",
    "    city = row['city1_small']\n",
    "    city_year = row['Year']\n",
    "    lat = row['city1_lati']\n",
    "    lon = row['city1_long']\n",
    "    \n",
    "    # Ensure the city has valid latitude and longitude\n",
    "    if pd.notna(lat) and pd.notna(lon):\n",
    "        final_data.append({\n",
    "            'city': city,\n",
    "            'year': city_year,\n",
    "            'lat': lat,\n",
    "            'lon': lon,\n",
    "            'popularity': city_weight  # Add the popularity as weight\n",
    "        })\n",
    "\n",
    "df = pd.DataFrame(final_data)\n",
    "\n",
    "df['year'] = df['year'].astype(int)\n",
    "\n",
    "df = df.sort_values('year')\n",
    "\n",
    "df['year'] = pd.Categorical(df['year'], categories=sorted(df['year'].unique()), ordered=True)\n",
    "\n",
    "# Calculate the center of the map based on the average latitude and longitude\n",
    "map_center = {\n",
    "    'lat': df['lat'].mean(),\n",
    "    'lon': df['lon'].mean()\n",
    "}\n",
    "\n",
    "# Create the density map using Plotly Express\n",
    "fig = px.density_mapbox(\n",
    "    df,\n",
    "    lat='lat',\n",
    "    lon='lon',\n",
    "    z='popularity',  # Use city popularity for the density weighting\n",
    "    radius=25,  # Adjust radius based on the data spread\n",
    "    center=map_center,\n",
    "    zoom=3,  # Set the zoom level for better visibility\n",
    "    mapbox_style='open-street-map',\n",
    "    animation_frame='year'\n",
    "    title='City Popularity Over Time',\n",
    "    category_orders={'year': df['year'].cat.categories}\n",
    ")\n",
    "\n",
    "# Display the figure\n",
    "fig.show()\n"
   ]
  }
 ],
 "metadata": {
  "kernelspec": {
   "display_name": "Python 3",
   "language": "python",
   "name": "python3"
  },
  "language_info": {
   "codemirror_mode": {
    "name": "ipython",
    "version": 3
   },
   "file_extension": ".py",
   "mimetype": "text/x-python",
   "name": "python",
   "nbconvert_exporter": "python",
   "pygments_lexer": "ipython3",
   "version": "3.11.4"
  }
 },
 "nbformat": 4,
 "nbformat_minor": 2
}
